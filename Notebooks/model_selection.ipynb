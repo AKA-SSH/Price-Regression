{
 "cells": [
  {
   "cell_type": "code",
   "execution_count": 1,
   "id": "22da750e-2fc7-4833-93ad-4950011ba930",
   "metadata": {},
   "outputs": [],
   "source": [
    "# data manipulation\n",
    "import pickle\n",
    "import numpy as np\n",
    "import pandas as pd\n",
    "\n",
    "# preprocessing\n",
    "from sklearn.model_selection import train_test_split\n",
    "from sklearn.preprocessing import OneHotEncoder, StandardScaler\n",
    "from sklearn.compose import ColumnTransformer\n",
    "\n",
    "# machine learning models\n",
    "from sklearn.linear_model import LinearRegression, Ridge, Lasso\n",
    "from sklearn.svm import SVR\n",
    "from sklearn.ensemble import RandomForestRegressor, AdaBoostRegressor\n",
    "from lightgbm import LGBMRegressor\n",
    "from catboost import CatBoostRegressor\n",
    "from xgboost import XGBRegressor\n",
    "\n",
    "# evaluation metrics\n",
    "from tabulate import tabulate\n",
    "from sklearn.metrics import r2_score, mean_absolute_error, root_mean_squared_error\n",
    "\n",
    "# hyperparameter tuning\n",
    "import optuna\n",
    "\n",
    "# damp warnings\n",
    "import logging"
   ]
  },
  {
   "cell_type": "code",
   "execution_count": 2,
   "id": "488587d1-79e4-49bf-898a-ea8aacfe86fd",
   "metadata": {},
   "outputs": [],
   "source": [
    "def load_object(file_name):\n",
    "    with open(file_name, 'rb') as f:\n",
    "        data= pickle.load(f)\n",
    "    return data"
   ]
  },
  {
   "cell_type": "code",
   "execution_count": 3,
   "id": "2cd17058-3230-46a0-8b0a-ec46a13cf54f",
   "metadata": {},
   "outputs": [],
   "source": [
    "train_features= load_object('notebook_artifacts/train_features.pkl')\n",
    "test_features= load_object('notebook_artifacts/test_features.pkl')\n",
    "train_target= load_object('notebook_artifacts/train_target.pkl')\n",
    "test_target= load_object('notebook_artifacts/test_target.pkl')"
   ]
  },
  {
   "cell_type": "code",
   "execution_count": 4,
   "id": "1c6e09f7-5669-413e-9447-2dff478503b5",
   "metadata": {},
   "outputs": [
    {
     "data": {
      "text/plain": [
       "((1388331, 7), (1388331,), (347083, 7), (347083,))"
      ]
     },
     "execution_count": 4,
     "metadata": {},
     "output_type": "execute_result"
    }
   ],
   "source": [
    "train_features.shape, train_target.shape, test_features.shape, test_target.shape"
   ]
  },
  {
   "cell_type": "markdown",
   "id": "fb827c6e-ce47-49c2-90cc-8f387d7ccd27",
   "metadata": {},
   "source": [
    "# Model Selection"
   ]
  },
  {
   "cell_type": "markdown",
   "id": "dcf4d1ed-d2ea-4663-9412-d9d1662d7dbe",
   "metadata": {},
   "source": [
    "## Making evaluation metrics function"
   ]
  },
  {
   "cell_type": "code",
   "execution_count": 5,
   "id": "b621331f-33d3-429a-b5d4-815e563d2166",
   "metadata": {},
   "outputs": [],
   "source": [
    "def evaluation_metrics(true, predicted):\n",
    "    MAE= f'{mean_absolute_error(true, predicted):.3f}'\n",
    "    RMSE= f'{root_mean_squared_error(true, predicted):.3f}'\n",
    "    R2= f'{r2_score(true, predicted):.3f}'\n",
    "\n",
    "    metrics_data= {'Metric': ['MAE', 'RMSE', 'R2'],\n",
    "                   'Value': [MAE, RMSE, R2]}\n",
    "    \n",
    "    metrics_dataframe= pd.DataFrame(metrics_data)\n",
    "    table= tabulate(metrics_dataframe, headers= 'keys', tablefmt= 'pretty', showindex= False)\n",
    "\n",
    "    return table"
   ]
  },
  {
   "cell_type": "markdown",
   "id": "020222b8-d176-4349-bc40-8ced3a7ff450",
   "metadata": {},
   "source": [
    "## Making model evaluation function"
   ]
  },
  {
   "cell_type": "code",
   "execution_count": 6,
   "id": "e4b04caf-6c7d-4c10-9f1f-7948429fa090",
   "metadata": {},
   "outputs": [],
   "source": [
    "def evaluate_model(model, model_name, train_features, test_features, train_target, test_target):\n",
    "    # fit model on train data\n",
    "    model.fit(train_features, train_target)\n",
    "    \n",
    "    # find predictions for train and test data\n",
    "    train_prediction= model.predict(train_features)\n",
    "    test_prediction= model.predict(test_features)\n",
    "\n",
    "    # evalute model performance\n",
    "    train_metrics= evaluation_metrics(train_target, train_prediction)\n",
    "    test_metrics= evaluation_metrics(test_target, test_prediction)\n",
    "\n",
    "    print('===================================================================================')\n",
    "    print(f'MODEL : {model_name}')\n",
    "    print('-----------------------------------------------------------------------------------')\n",
    "    print('TRAIN DATA')\n",
    "    print(train_metrics)\n",
    "    print('-----------------------------------------------------------------------------------')\n",
    "    print('TEST DATA')\n",
    "    print(test_metrics)"
   ]
  },
  {
   "cell_type": "markdown",
   "id": "9edfcda0-48c9-4e7d-ac92-ee8fe50dae99",
   "metadata": {},
   "source": [
    "## Initiating model selection"
   ]
  },
  {
   "cell_type": "markdown",
   "id": "33afaa4f-8b65-43a5-9552-44e5cac2cda5",
   "metadata": {},
   "source": [
    "### Listing usable models"
   ]
  },
  {
   "cell_type": "code",
   "execution_count": 7,
   "id": "f59f215b-d5e0-48c2-8ed5-44671ab2d680",
   "metadata": {},
   "outputs": [],
   "source": [
    "models= {'Liner Regression': LinearRegression(),\n",
    "         'Lasso': Lasso(),\n",
    "         'Ridge': Ridge(),\n",
    "         'Random Forest Regressor': RandomForestRegressor(),\n",
    "         'XGBoost': XGBRegressor(verbosity= 0),\n",
    "         'LGBM Regressor': LGBMRegressor(verbosity= -1),\n",
    "         'CatBoost Regressor': CatBoostRegressor(verbose= False),\n",
    "         'AdaBoost Regressor': AdaBoostRegressor()}"
   ]
  },
  {
   "cell_type": "markdown",
   "id": "717e548f-12d5-43cc-9da6-43403985a2df",
   "metadata": {},
   "source": [
    "### Using helper functions on listed models"
   ]
  },
  {
   "cell_type": "code",
   "execution_count": 16,
   "id": "8e47d97a-b132-4d6e-8e80-1a531b84dbec",
   "metadata": {},
   "outputs": [],
   "source": [
    "for model_name, model_object in models.items():\n",
    "    evaluate_model(model_object, model_name, train_features, test_features, train_target, test_target)"
   ]
  },
  {
   "cell_type": "markdown",
   "id": "4a30f89b-27bb-4cc7-a67c-6c02c14a8902",
   "metadata": {},
   "source": [
    "## Final Selection"
   ]
  },
  {
   "cell_type": "markdown",
   "id": "26739cfd-a6f0-4c43-9db5-5c005c085a65",
   "metadata": {},
   "source": [
    "Selecting CatBoost Regressor it has performed the best."
   ]
  },
  {
   "cell_type": "code",
   "execution_count": 21,
   "id": "33500d92-1437-4b31-8d6d-01adbbabfca8",
   "metadata": {},
   "outputs": [],
   "source": [
    "train_data= pd.concat([train_features, train_target], axis=1)"
   ]
  },
  {
   "cell_type": "code",
   "execution_count": 22,
   "id": "2dbb874f-739b-48bb-bad9-417f7f440c30",
   "metadata": {},
   "outputs": [],
   "source": [
    "sample_data= train_data.sample(100_000, random_state= 42)"
   ]
  },
  {
   "cell_type": "code",
   "execution_count": 30,
   "id": "21662b49-9611-4299-9434-94d93a3291c8",
   "metadata": {},
   "outputs": [],
   "source": [
    "sample_train_data, sample_test_data= sample_data.iloc[:80_000], sample_data.iloc[80_000:]"
   ]
  },
  {
   "cell_type": "code",
   "execution_count": 35,
   "id": "2fed2a15-ad88-4b16-b76c-d421eab006f2",
   "metadata": {},
   "outputs": [],
   "source": [
    "sample_train_features, sample_train_target= sample_train_data.drop('price', axis= 1), sample_train_data.price\n",
    "sample_test_features, sample_test_target= sample_test_data.drop('price', axis= 1), sample_test_data.price"
   ]
  },
  {
   "cell_type": "code",
   "execution_count": 36,
   "id": "1ed47159-9db8-4ccf-a8b7-d8c63911c918",
   "metadata": {},
   "outputs": [],
   "source": [
    "def objective(trial):\n",
    "    # Define hyperparameters to be tuned\n",
    "    params = {\n",
    "        'iterations': trial.suggest_int('iterations', 500, 2000),\n",
    "        'depth': trial.suggest_int('depth', 4, 10),\n",
    "        'learning_rate': trial.suggest_float('learning_rate', 0.01, 0.2),\n",
    "        'random_strength': trial.suggest_float('random_strength', 0.1, 1.0),\n",
    "        'bagging_temperature': trial.suggest_float('bagging_temperature', 0.0, 1.0),\n",
    "        'border_count': trial.suggest_int('border_count', 5, 255),\n",
    "    }\n",
    "    model = CatBoostRegressor(**params, verbose=0)\n",
    "    model.fit(sample_train_features, sample_train_target)\n",
    "    sample_test_predictions = model.predict(sample_test_features)\n",
    "    # Calculate R² score\n",
    "    r2 = r2_score(sample_test_target, sample_test_predictions)\n",
    "    return r2"
   ]
  },
  {
   "cell_type": "code",
   "execution_count": 37,
   "id": "2577e7f7-0bf0-4dc3-8b52-62b999d9fc83",
   "metadata": {},
   "outputs": [
    {
     "name": "stderr",
     "output_type": "stream",
     "text": [
      "[I 2024-01-29 14:26:13,602] A new study created in memory with name: no-name-4a9489d0-bf87-453d-b562-34f1592ac5ed\n",
      "[I 2024-01-29 14:26:35,621] Trial 0 finished with value: 0.2404815779801529 and parameters: {'iterations': 1261, 'depth': 9, 'learning_rate': 0.15798954853496702, 'random_strength': 0.8656391741011038, 'bagging_temperature': 0.45129965703781083, 'border_count': 235}. Best is trial 0 with value: 0.2404815779801529.\n",
      "[I 2024-01-29 14:26:50,465] Trial 1 finished with value: 0.16185730367854134 and parameters: {'iterations': 1931, 'depth': 4, 'learning_rate': 0.036690410686796085, 'random_strength': 0.13565626810616047, 'bagging_temperature': 0.3334997318374676, 'border_count': 34}. Best is trial 0 with value: 0.2404815779801529.\n",
      "[I 2024-01-29 14:27:14,323] Trial 2 finished with value: 0.2263538791252634 and parameters: {'iterations': 1449, 'depth': 9, 'learning_rate': 0.06454850975095652, 'random_strength': 0.3532553598889775, 'bagging_temperature': 0.5009439326884276, 'border_count': 125}. Best is trial 0 with value: 0.2404815779801529.\n",
      "[I 2024-01-29 14:27:32,535] Trial 3 finished with value: 0.248996350077772 and parameters: {'iterations': 1377, 'depth': 7, 'learning_rate': 0.0333505155552847, 'random_strength': 0.3404239424051757, 'bagging_temperature': 0.7193764821277191, 'border_count': 235}. Best is trial 3 with value: 0.248996350077772.\n",
      "[I 2024-01-29 14:27:53,847] Trial 4 finished with value: 0.1700832691781029 and parameters: {'iterations': 1524, 'depth': 8, 'learning_rate': 0.06336729979088288, 'random_strength': 0.15001317819603074, 'bagging_temperature': 0.007629571182674488, 'border_count': 51}. Best is trial 3 with value: 0.248996350077772.\n",
      "[I 2024-01-29 14:28:13,500] Trial 5 finished with value: 0.16495186071673384 and parameters: {'iterations': 1857, 'depth': 6, 'learning_rate': 0.10204771741780264, 'random_strength': 0.45238121521766594, 'bagging_temperature': 0.5797910688170106, 'border_count': 39}. Best is trial 3 with value: 0.248996350077772.\n",
      "[I 2024-01-29 14:28:30,363] Trial 6 finished with value: 0.23010905206902832 and parameters: {'iterations': 910, 'depth': 9, 'learning_rate': 0.03434312570727235, 'random_strength': 0.24110005565702572, 'bagging_temperature': 0.5044101296032795, 'border_count': 147}. Best is trial 3 with value: 0.248996350077772.\n",
      "[I 2024-01-29 14:28:50,772] Trial 7 finished with value: 0.23341697378659576 and parameters: {'iterations': 1984, 'depth': 5, 'learning_rate': 0.18826401874353874, 'random_strength': 0.21417018364107898, 'bagging_temperature': 0.09942861249984336, 'border_count': 210}. Best is trial 3 with value: 0.248996350077772.\n",
      "[I 2024-01-29 14:29:34,304] Trial 8 finished with value: 0.2203763304209616 and parameters: {'iterations': 1469, 'depth': 10, 'learning_rate': 0.1029308947893885, 'random_strength': 0.9275302236323784, 'bagging_temperature': 0.0650185094783402, 'border_count': 136}. Best is trial 3 with value: 0.248996350077772.\n",
      "[I 2024-01-29 14:29:57,595] Trial 9 finished with value: 0.23159854882997688 and parameters: {'iterations': 1523, 'depth': 8, 'learning_rate': 0.03290594828755169, 'random_strength': 0.185516624274691, 'bagging_temperature': 0.7416959604806828, 'border_count': 142}. Best is trial 3 with value: 0.248996350077772.\n",
      "[I 2024-01-29 14:30:03,684] Trial 10 finished with value: 0.2058773707898668 and parameters: {'iterations': 522, 'depth': 6, 'learning_rate': 0.012638346911123099, 'random_strength': 0.681615237268693, 'bagging_temperature': 0.9230384521283058, 'border_count': 200}. Best is trial 3 with value: 0.248996350077772.\n",
      "[I 2024-01-29 14:30:18,931] Trial 11 finished with value: 0.2463548328579409 and parameters: {'iterations': 1106, 'depth': 7, 'learning_rate': 0.1748521218171324, 'random_strength': 0.6686901933543712, 'bagging_temperature': 0.7603134873444688, 'border_count': 247}. Best is trial 3 with value: 0.248996350077772.\n",
      "[I 2024-01-29 14:30:32,200] Trial 12 finished with value: 0.25063407165339757 and parameters: {'iterations': 961, 'depth': 7, 'learning_rate': 0.14314800748266726, 'random_strength': 0.6520117083251042, 'bagging_temperature': 0.834785398045044, 'border_count': 248}. Best is trial 12 with value: 0.25063407165339757.\n",
      "[I 2024-01-29 14:30:43,076] Trial 13 finished with value: 0.23132412634566235 and parameters: {'iterations': 800, 'depth': 7, 'learning_rate': 0.151183358005177, 'random_strength': 0.5741476675423924, 'bagging_temperature': 0.9991012926165259, 'border_count': 189}. Best is trial 12 with value: 0.25063407165339757.\n",
      "[I 2024-01-29 14:30:56,468] Trial 14 finished with value: 0.25103692044206793 and parameters: {'iterations': 1095, 'depth': 6, 'learning_rate': 0.1321924856190306, 'random_strength': 0.44537836714443346, 'bagging_temperature': 0.765557188158267, 'border_count': 247}. Best is trial 14 with value: 0.25103692044206793.\n",
      "[I 2024-01-29 14:31:06,541] Trial 15 finished with value: 0.21011265004681867 and parameters: {'iterations': 1004, 'depth': 5, 'learning_rate': 0.12996922409057224, 'random_strength': 0.7409782011357834, 'bagging_temperature': 0.8550163982579257, 'border_count': 85}. Best is trial 14 with value: 0.25103692044206793.\n",
      "[I 2024-01-29 14:31:16,145] Trial 16 finished with value: 0.23311579714292252 and parameters: {'iterations': 788, 'depth': 6, 'learning_rate': 0.13257466509683366, 'random_strength': 0.514921485525964, 'bagging_temperature': 0.6236077450703559, 'border_count': 179}. Best is trial 14 with value: 0.25103692044206793.\n",
      "[I 2024-01-29 14:31:20,988] Trial 17 finished with value: 0.24894733824953852 and parameters: {'iterations': 538, 'depth': 4, 'learning_rate': 0.12216260471541418, 'random_strength': 0.7654109155607107, 'bagging_temperature': 0.8288342320056025, 'border_count': 250}. Best is trial 14 with value: 0.25103692044206793.\n",
      "[I 2024-01-29 14:31:32,583] Trial 18 finished with value: 0.23476138850983197 and parameters: {'iterations': 1131, 'depth': 5, 'learning_rate': 0.0846062378482495, 'random_strength': 0.5844940568530693, 'bagging_temperature': 0.2899346592248761, 'border_count': 169}. Best is trial 14 with value: 0.25103692044206793.\n",
      "[I 2024-01-29 14:31:44,252] Trial 19 finished with value: 0.23245707298977136 and parameters: {'iterations': 711, 'depth': 8, 'learning_rate': 0.1984607586211678, 'random_strength': 0.4098783463149135, 'bagging_temperature': 0.6484671660450481, 'border_count': 217}. Best is trial 14 with value: 0.25103692044206793.\n",
      "[I 2024-01-29 14:32:02,526] Trial 20 finished with value: 0.037041323547012506 and parameters: {'iterations': 1688, 'depth': 6, 'learning_rate': 0.1569657080846823, 'random_strength': 0.507877543256565, 'bagging_temperature': 0.9888257052750524, 'border_count': 5}. Best is trial 14 with value: 0.25103692044206793.\n",
      "[I 2024-01-29 14:32:20,587] Trial 21 finished with value: 0.24678751233228957 and parameters: {'iterations': 1324, 'depth': 7, 'learning_rate': 0.11683377294179229, 'random_strength': 0.31481987790885674, 'bagging_temperature': 0.7238335297251981, 'border_count': 226}. Best is trial 14 with value: 0.25103692044206793.\n",
      "[I 2024-01-29 14:32:36,036] Trial 22 finished with value: 0.2474241291344601 and parameters: {'iterations': 1124, 'depth': 7, 'learning_rate': 0.14150003821603613, 'random_strength': 0.26699002161089314, 'bagging_temperature': 0.8455688300693975, 'border_count': 254}. Best is trial 14 with value: 0.25103692044206793.\n",
      "[I 2024-01-29 14:32:48,537] Trial 23 finished with value: 0.2512387370989948 and parameters: {'iterations': 906, 'depth': 7, 'learning_rate': 0.08400674575918708, 'random_strength': 0.39442052662791305, 'bagging_temperature': 0.6633607234243998, 'border_count': 229}. Best is trial 23 with value: 0.2512387370989948.\n",
      "[I 2024-01-29 14:33:03,479] Trial 24 finished with value: 0.2353469208671064 and parameters: {'iterations': 930, 'depth': 8, 'learning_rate': 0.08013958449580504, 'random_strength': 0.4328750757433145, 'bagging_temperature': 0.64360827195268, 'border_count': 210}. Best is trial 23 with value: 0.2512387370989948.\n",
      "[I 2024-01-29 14:33:11,174] Trial 25 finished with value: 0.2356485731124599 and parameters: {'iterations': 661, 'depth': 6, 'learning_rate': 0.08827415143852858, 'random_strength': 0.6481816402726706, 'bagging_temperature': 0.8771545663222566, 'border_count': 169}. Best is trial 23 with value: 0.2512387370989948.\n",
      "[I 2024-01-29 14:33:21,236] Trial 26 finished with value: 0.22103742563544582 and parameters: {'iterations': 1011, 'depth': 5, 'learning_rate': 0.16896958679972385, 'random_strength': 0.4915732412929915, 'bagging_temperature': 0.7884281318057983, 'border_count': 108}. Best is trial 23 with value: 0.2512387370989948.\n",
      "[I 2024-01-29 14:33:37,447] Trial 27 finished with value: 0.2489649653897481 and parameters: {'iterations': 1189, 'depth': 7, 'learning_rate': 0.11661048854987069, 'random_strength': 0.5955051056828116, 'bagging_temperature': 0.9209200342286519, 'border_count': 229}. Best is trial 23 with value: 0.2512387370989948.\n",
      "[I 2024-01-29 14:33:47,585] Trial 28 finished with value: 0.2340476271823969 and parameters: {'iterations': 842, 'depth': 6, 'learning_rate': 0.13967212037843169, 'random_strength': 0.3811326340595312, 'bagging_temperature': 0.5718990831219786, 'border_count': 190}. Best is trial 23 with value: 0.2512387370989948.\n",
      "[I 2024-01-29 14:34:33,078] Trial 29 finished with value: 0.2436642447156242 and parameters: {'iterations': 1261, 'depth': 10, 'learning_rate': 0.0971306318463955, 'random_strength': 0.8381957665090236, 'bagging_temperature': 0.4333637457632272, 'border_count': 238}. Best is trial 23 with value: 0.2512387370989948.\n",
      "[I 2024-01-29 14:34:49,898] Trial 30 finished with value: 0.24900640547185326 and parameters: {'iterations': 1004, 'depth': 8, 'learning_rate': 0.06917558813599765, 'random_strength': 0.7843465172631832, 'bagging_temperature': 0.6918691597096787, 'border_count': 255}. Best is trial 23 with value: 0.2512387370989948.\n",
      "[I 2024-01-29 14:35:06,850] Trial 31 finished with value: 0.2483576058408683 and parameters: {'iterations': 1021, 'depth': 8, 'learning_rate': 0.07332631707691728, 'random_strength': 0.7826095851184989, 'bagging_temperature': 0.6793713035889957, 'border_count': 255}. Best is trial 23 with value: 0.2512387370989948.\n",
      "[I 2024-01-29 14:35:21,361] Trial 32 finished with value: 0.25037139145705 and parameters: {'iterations': 899, 'depth': 8, 'learning_rate': 0.05442636781352182, 'random_strength': 0.9822682092941284, 'bagging_temperature': 0.7960025523578899, 'border_count': 220}. Best is trial 23 with value: 0.2512387370989948.\n",
      "[I 2024-01-29 14:35:35,651] Trial 33 finished with value: 0.24820885919573776 and parameters: {'iterations': 705, 'depth': 9, 'learning_rate': 0.0535267103561024, 'random_strength': 0.9445986157687626, 'bagging_temperature': 0.8117591769972221, 'border_count': 221}. Best is trial 23 with value: 0.2512387370989948.\n",
      "[I 2024-01-29 14:35:47,098] Trial 34 finished with value: 0.23468821766293468 and parameters: {'iterations': 857, 'depth': 7, 'learning_rate': 0.042962267509291205, 'random_strength': 0.8534672079227144, 'bagging_temperature': 0.9088316822626044, 'border_count': 203}. Best is trial 23 with value: 0.2512387370989948.\n",
      "[I 2024-01-29 14:35:59,683] Trial 35 finished with value: 0.24803640770281177 and parameters: {'iterations': 922, 'depth': 7, 'learning_rate': 0.053583292288589546, 'random_strength': 0.9947709386529782, 'bagging_temperature': 0.5700564091680177, 'border_count': 239}. Best is trial 23 with value: 0.2512387370989948.\n",
      "[I 2024-01-29 14:36:24,613] Trial 36 finished with value: 0.24408453130757435 and parameters: {'iterations': 1228, 'depth': 9, 'learning_rate': 0.01581819302940464, 'random_strength': 0.3011647904611911, 'bagging_temperature': 0.7769710913297335, 'border_count': 232}. Best is trial 23 with value: 0.2512387370989948.\n",
      "[I 2024-01-29 14:36:34,311] Trial 37 finished with value: 0.2336126667763364 and parameters: {'iterations': 622, 'depth': 8, 'learning_rate': 0.0941763880387833, 'random_strength': 0.3442936913751783, 'bagging_temperature': 0.36253273533064606, 'border_count': 163}. Best is trial 23 with value: 0.2512387370989948.\n",
      "[I 2024-01-29 14:36:47,155] Trial 38 finished with value: 0.23325936001724756 and parameters: {'iterations': 1076, 'depth': 6, 'learning_rate': 0.14679353163448647, 'random_strength': 0.43017830850811645, 'bagging_temperature': 0.5226952576310115, 'border_count': 194}. Best is trial 23 with value: 0.2512387370989948.\n",
      "[I 2024-01-29 14:36:59,097] Trial 39 finished with value: 0.24276004709380272 and parameters: {'iterations': 1349, 'depth': 4, 'learning_rate': 0.10788442606031202, 'random_strength': 0.47867009379659536, 'bagging_temperature': 0.7158280760835354, 'border_count': 217}. Best is trial 23 with value: 0.2512387370989948.\n",
      "[I 2024-01-29 14:37:14,498] Trial 40 finished with value: 0.2439316737416387 and parameters: {'iterations': 940, 'depth': 8, 'learning_rate': 0.16942294825256016, 'random_strength': 0.3850930709827117, 'bagging_temperature': 0.4527655135549653, 'border_count': 236}. Best is trial 23 with value: 0.2512387370989948.\n",
      "[I 2024-01-29 14:37:31,589] Trial 41 finished with value: 0.24840998026382388 and parameters: {'iterations': 1038, 'depth': 8, 'learning_rate': 0.07364462575391274, 'random_strength': 0.8129701805350444, 'bagging_temperature': 0.7007107436410043, 'border_count': 241}. Best is trial 23 with value: 0.2512387370989948.\n",
      "[I 2024-01-29 14:37:50,877] Trial 42 finished with value: 0.2504032717396417 and parameters: {'iterations': 1165, 'depth': 8, 'learning_rate': 0.060122119805899356, 'random_strength': 0.7154578219667103, 'bagging_temperature': 0.6034965401232023, 'border_count': 255}. Best is trial 23 with value: 0.2512387370989948.\n",
      "[I 2024-01-29 14:38:06,988] Trial 43 finished with value: 0.24999506135163285 and parameters: {'iterations': 1177, 'depth': 7, 'learning_rate': 0.055905331337793185, 'random_strength': 0.7263659154427469, 'bagging_temperature': 0.612622174649631, 'border_count': 224}. Best is trial 23 with value: 0.2512387370989948.\n",
      "[I 2024-01-29 14:38:22,026] Trial 44 finished with value: 0.2355965185656207 and parameters: {'iterations': 751, 'depth': 9, 'learning_rate': 0.04613938484340643, 'random_strength': 0.10632189553886634, 'bagging_temperature': 0.7829636445554049, 'border_count': 207}. Best is trial 23 with value: 0.2512387370989948.\n",
      "[I 2024-01-29 14:38:37,356] Trial 45 finished with value: 0.22831812505324867 and parameters: {'iterations': 865, 'depth': 9, 'learning_rate': 0.02659120783099262, 'random_strength': 0.6285341096013177, 'bagging_temperature': 0.5465909196618701, 'border_count': 120}. Best is trial 23 with value: 0.2512387370989948.\n",
      "[I 2024-01-29 14:38:55,362] Trial 46 finished with value: 0.20789870135078758 and parameters: {'iterations': 1426, 'depth': 7, 'learning_rate': 0.06284331068634211, 'random_strength': 0.9091988203706247, 'bagging_temperature': 0.7397308327067063, 'border_count': 71}. Best is trial 23 with value: 0.2512387370989948.\n",
      "[I 2024-01-29 14:39:14,488] Trial 47 finished with value: 0.25158983815958735 and parameters: {'iterations': 1615, 'depth': 6, 'learning_rate': 0.06044695717250499, 'random_strength': 0.5605190796641307, 'bagging_temperature': 0.8772338448136944, 'border_count': 242}. Best is trial 47 with value: 0.25158983815958735.\n",
      "[I 2024-01-29 14:39:35,400] Trial 48 finished with value: 0.25052067020196866 and parameters: {'iterations': 1759, 'depth': 6, 'learning_rate': 0.10762473966216006, 'random_strength': 0.5400548928524109, 'bagging_temperature': 0.9641475058930384, 'border_count': 245}. Best is trial 47 with value: 0.25158983815958735.\n",
      "[I 2024-01-29 14:39:53,768] Trial 49 finished with value: 0.2522482785608203 and parameters: {'iterations': 1802, 'depth': 5, 'learning_rate': 0.10961854475187816, 'random_strength': 0.5314672593629277, 'bagging_temperature': 0.952813401493425, 'border_count': 242}. Best is trial 49 with value: 0.2522482785608203.\n",
      "[I 2024-01-29 14:40:12,786] Trial 50 finished with value: 0.25331559126541114 and parameters: {'iterations': 1863, 'depth': 5, 'learning_rate': 0.13387419913888549, 'random_strength': 0.5514485353741382, 'bagging_temperature': 0.8886056662093385, 'border_count': 243}. Best is trial 50 with value: 0.25331559126541114.\n",
      "[I 2024-01-29 14:40:31,954] Trial 51 finished with value: 0.25032447121888424 and parameters: {'iterations': 1891, 'depth': 5, 'learning_rate': 0.1278828777266436, 'random_strength': 0.5579282403881646, 'bagging_temperature': 0.8865178276391644, 'border_count': 242}. Best is trial 50 with value: 0.25331559126541114.\n",
      "[I 2024-01-29 14:40:48,726] Trial 52 finished with value: 0.25258774943560003 and parameters: {'iterations': 1642, 'depth': 5, 'learning_rate': 0.13531885017182152, 'random_strength': 0.46233296724879874, 'bagging_temperature': 0.9487807779680444, 'border_count': 232}. Best is trial 50 with value: 0.25331559126541114.\n",
      "[I 2024-01-29 14:41:05,761] Trial 53 finished with value: 0.2537147688862421 and parameters: {'iterations': 1670, 'depth': 5, 'learning_rate': 0.13385214852124963, 'random_strength': 0.46892119732488496, 'bagging_temperature': 0.9524094897880794, 'border_count': 233}. Best is trial 53 with value: 0.2537147688862421.\n",
      "[I 2024-01-29 14:41:22,609] Trial 54 finished with value: 0.23452072228861998 and parameters: {'iterations': 1655, 'depth': 5, 'learning_rate': 0.11301638036561212, 'random_strength': 0.5248962016085755, 'bagging_temperature': 0.9477324613270884, 'border_count': 212}. Best is trial 53 with value: 0.2537147688862421.\n",
      "[I 2024-01-29 14:41:38,465] Trial 55 finished with value: 0.2540359336287882 and parameters: {'iterations': 1795, 'depth': 4, 'learning_rate': 0.12379339508684592, 'random_strength': 0.4688971765757972, 'bagging_temperature': 0.95208583378247, 'border_count': 230}. Best is trial 55 with value: 0.2540359336287882.\n",
      "[I 2024-01-29 14:41:54,454] Trial 56 finished with value: 0.23865335436612578 and parameters: {'iterations': 1802, 'depth': 4, 'learning_rate': 0.12643299107007874, 'random_strength': 0.4664188281481658, 'bagging_temperature': 0.9676742900948018, 'border_count': 183}. Best is trial 55 with value: 0.2540359336287882.\n",
      "[I 2024-01-29 14:42:11,834] Trial 57 finished with value: 0.2370012569248331 and parameters: {'iterations': 1974, 'depth': 4, 'learning_rate': 0.13856489310267478, 'random_strength': 0.6201135804785597, 'bagging_temperature': 0.9981341644602542, 'border_count': 198}. Best is trial 55 with value: 0.2540359336287882.\n",
      "[I 2024-01-29 14:42:28,179] Trial 58 finished with value: 0.2514556150040358 and parameters: {'iterations': 1603, 'depth': 5, 'learning_rate': 0.15631200292656955, 'random_strength': 0.5320194499038415, 'bagging_temperature': 0.9380418516990152, 'border_count': 236}. Best is trial 55 with value: 0.2540359336287882.\n",
      "[I 2024-01-29 14:42:46,281] Trial 59 finished with value: 0.2518454087493922 and parameters: {'iterations': 1772, 'depth': 5, 'learning_rate': 0.11772217874603187, 'random_strength': 0.602286967970943, 'bagging_temperature': 0.8796084183771782, 'border_count': 229}. Best is trial 55 with value: 0.2540359336287882.\n",
      "[I 2024-01-29 14:43:01,686] Trial 60 finished with value: 0.23428726815838719 and parameters: {'iterations': 1763, 'depth': 4, 'learning_rate': 0.1185275104824748, 'random_strength': 0.6841200563446695, 'bagging_temperature': 0.18377638472731816, 'border_count': 149}. Best is trial 55 with value: 0.2540359336287882.\n",
      "[I 2024-01-29 14:43:17,624] Trial 61 finished with value: 0.25099681333273194 and parameters: {'iterations': 1555, 'depth': 5, 'learning_rate': 0.13407568939913284, 'random_strength': 0.5933550898034016, 'bagging_temperature': 0.8753707397598445, 'border_count': 229}. Best is trial 55 with value: 0.2540359336287882.\n",
      "[I 2024-01-29 14:43:34,834] Trial 62 finished with value: 0.23665453138337889 and parameters: {'iterations': 1704, 'depth': 5, 'learning_rate': 0.12376682565574124, 'random_strength': 0.4952151630800275, 'bagging_temperature': 0.9134906183599439, 'border_count': 212}. Best is trial 55 with value: 0.2540359336287882.\n",
      "[I 2024-01-29 14:43:53,573] Trial 63 finished with value: 0.253118719035233 and parameters: {'iterations': 1840, 'depth': 5, 'learning_rate': 0.14944247085018994, 'random_strength': 0.5633117996793375, 'bagging_temperature': 0.8608592801290553, 'border_count': 243}. Best is trial 55 with value: 0.2540359336287882.\n",
      "[I 2024-01-29 14:44:13,266] Trial 64 finished with value: 0.2503964492341839 and parameters: {'iterations': 1932, 'depth': 5, 'learning_rate': 0.14660788828305066, 'random_strength': 0.4515601276730872, 'bagging_temperature': 0.848376768668839, 'border_count': 226}. Best is trial 55 with value: 0.2540359336287882.\n",
      "[I 2024-01-29 14:44:29,416] Trial 65 finished with value: 0.2536758469111752 and parameters: {'iterations': 1838, 'depth': 4, 'learning_rate': 0.16348428327621528, 'random_strength': 0.6031706190702268, 'bagging_temperature': 0.9658915920949891, 'border_count': 248}. Best is trial 55 with value: 0.2540359336287882.\n",
      "[I 2024-01-29 14:44:46,209] Trial 66 finished with value: 0.25313628139106137 and parameters: {'iterations': 1908, 'depth': 4, 'learning_rate': 0.16257913296370374, 'random_strength': 0.41932248473605493, 'bagging_temperature': 0.9691327663574125, 'border_count': 247}. Best is trial 55 with value: 0.2540359336287882.\n",
      "[I 2024-01-29 14:45:02,462] Trial 67 finished with value: 0.251057596365178 and parameters: {'iterations': 1835, 'depth': 4, 'learning_rate': 0.16368637189874394, 'random_strength': 0.4079953219393505, 'bagging_temperature': 0.9767060134634328, 'border_count': 248}. Best is trial 55 with value: 0.2540359336287882.\n",
      "[I 2024-01-29 14:45:18,970] Trial 68 finished with value: 0.2395422255872558 and parameters: {'iterations': 1887, 'depth': 4, 'learning_rate': 0.17371254400314554, 'random_strength': 0.480823026329172, 'bagging_temperature': 0.9127120830146971, 'border_count': 217}. Best is trial 55 with value: 0.2540359336287882.\n",
      "[I 2024-01-29 14:45:34,007] Trial 69 finished with value: 0.25334436865198273 and parameters: {'iterations': 1709, 'depth': 4, 'learning_rate': 0.18702086741023258, 'random_strength': 0.3778029695258778, 'bagging_temperature': 0.8133122159756405, 'border_count': 248}. Best is trial 55 with value: 0.2540359336287882.\n",
      "[I 2024-01-29 14:45:49,068] Trial 70 finished with value: 0.2518707893430979 and parameters: {'iterations': 1710, 'depth': 4, 'learning_rate': 0.15393601349624803, 'random_strength': 0.3158772895560329, 'bagging_temperature': 0.8199769538895185, 'border_count': 249}. Best is trial 55 with value: 0.2540359336287882.\n",
      "[I 2024-01-29 14:46:06,560] Trial 71 finished with value: 0.25164728048635243 and parameters: {'iterations': 1990, 'depth': 4, 'learning_rate': 0.18450634561472865, 'random_strength': 0.3615778981626947, 'bagging_temperature': 0.9355862061114805, 'border_count': 235}. Best is trial 55 with value: 0.2540359336287882.\n",
      "[I 2024-01-29 14:46:23,150] Trial 72 finished with value: 0.2521757424002723 and parameters: {'iterations': 1858, 'depth': 4, 'learning_rate': 0.16226064412619792, 'random_strength': 0.4248723268835601, 'bagging_temperature': 0.9871734384112911, 'border_count': 248}. Best is trial 55 with value: 0.2540359336287882.\n",
      "[I 2024-01-29 14:46:40,192] Trial 73 finished with value: 0.25165863720628134 and parameters: {'iterations': 1930, 'depth': 4, 'learning_rate': 0.19478650913286455, 'random_strength': 0.4576559850974938, 'bagging_temperature': 0.8981997247654679, 'border_count': 234}. Best is trial 55 with value: 0.2540359336287882.\n",
      "[I 2024-01-29 14:46:55,771] Trial 74 finished with value: 0.25535659815378564 and parameters: {'iterations': 1723, 'depth': 4, 'learning_rate': 0.1785028953137151, 'random_strength': 0.5057545788623539, 'bagging_temperature': 0.8567027746838317, 'border_count': 224}. Best is trial 74 with value: 0.25535659815378564.\n",
      "[I 2024-01-29 14:47:11,033] Trial 75 finished with value: 0.2544518113239028 and parameters: {'iterations': 1727, 'depth': 4, 'learning_rate': 0.18598254010463508, 'random_strength': 0.5077396218909653, 'bagging_temperature': 0.8545079500717786, 'border_count': 223}. Best is trial 74 with value: 0.25535659815378564.\n",
      "[I 2024-01-29 14:47:26,239] Trial 76 finished with value: 0.23740800432175146 and parameters: {'iterations': 1739, 'depth': 4, 'learning_rate': 0.1841874476327239, 'random_strength': 0.5004208135744603, 'bagging_temperature': 0.8302590491413891, 'border_count': 205}. Best is trial 74 with value: 0.25535659815378564.\n",
      "[I 2024-01-29 14:47:39,726] Trial 77 finished with value: 0.2539534497941155 and parameters: {'iterations': 1537, 'depth': 4, 'learning_rate': 0.1911078668208983, 'random_strength': 0.3628012171734986, 'bagging_temperature': 0.9246659589001627, 'border_count': 221}. Best is trial 74 with value: 0.25535659815378564.\n",
      "[I 2024-01-29 14:47:53,203] Trial 78 finished with value: 0.2533161501196355 and parameters: {'iterations': 1523, 'depth': 4, 'learning_rate': 0.18953696838312495, 'random_strength': 0.2530974603414447, 'bagging_temperature': 0.7546183165757655, 'border_count': 220}. Best is trial 74 with value: 0.25535659815378564.\n",
      "[I 2024-01-29 14:48:06,915] Trial 79 finished with value: 0.2337398753345662 and parameters: {'iterations': 1558, 'depth': 4, 'learning_rate': 0.1802512677677775, 'random_strength': 0.20371226795941433, 'bagging_temperature': 0.7439406619597274, 'border_count': 185}. Best is trial 74 with value: 0.25535659815378564.\n",
      "[I 2024-01-29 14:48:20,028] Trial 80 finished with value: 0.235315805067843 and parameters: {'iterations': 1482, 'depth': 4, 'learning_rate': 0.19152274123588245, 'random_strength': 0.17848731682675734, 'bagging_temperature': 0.8098196121066434, 'border_count': 198}. Best is trial 74 with value: 0.25535659815378564.\n",
      "[I 2024-01-29 14:48:34,790] Trial 81 finished with value: 0.25325676784066353 and parameters: {'iterations': 1679, 'depth': 4, 'learning_rate': 0.17747037212641675, 'random_strength': 0.3594821709669682, 'bagging_temperature': 0.8482892587166334, 'border_count': 221}. Best is trial 74 with value: 0.25535659815378564.\n",
      "[I 2024-01-29 14:48:48,106] Trial 82 finished with value: 0.24077066976224637 and parameters: {'iterations': 1506, 'depth': 4, 'learning_rate': 0.19838534880701597, 'random_strength': 0.32218714124107894, 'bagging_temperature': 0.9244670790883373, 'border_count': 217}. Best is trial 74 with value: 0.25535659815378564.\n",
      "[I 2024-01-29 14:49:01,999] Trial 83 finished with value: 0.23743531897255332 and parameters: {'iterations': 1577, 'depth': 4, 'learning_rate': 0.18766150319107203, 'random_strength': 0.25604999901890707, 'bagging_temperature': 0.8907976678729344, 'border_count': 212}. Best is trial 74 with value: 0.25535659815378564.\n",
      "[I 2024-01-29 14:49:13,864] Trial 84 finished with value: 0.1580802168780544 and parameters: {'iterations': 1406, 'depth': 4, 'learning_rate': 0.1719507748728199, 'random_strength': 0.29100412737148074, 'bagging_temperature': 0.8034262572678783, 'border_count': 27}. Best is trial 74 with value: 0.25535659815378564.\n",
      "[I 2024-01-29 14:49:29,388] Trial 85 finished with value: 0.25219983074421526 and parameters: {'iterations': 1723, 'depth': 4, 'learning_rate': 0.19242496594300623, 'random_strength': 0.22600466621452261, 'bagging_temperature': 0.8366902622475577, 'border_count': 223}. Best is trial 74 with value: 0.25535659815378564.\n",
      "[I 2024-01-29 14:49:45,201] Trial 86 finished with value: 0.23712982133527172 and parameters: {'iterations': 1809, 'depth': 4, 'learning_rate': 0.1812605500151746, 'random_strength': 0.5089119949171419, 'bagging_temperature': 0.759081004418841, 'border_count': 205}. Best is trial 74 with value: 0.25535659815378564.\n",
      "[I 2024-01-29 14:49:59,894] Trial 87 finished with value: 0.2542337827996236 and parameters: {'iterations': 1660, 'depth': 4, 'learning_rate': 0.16640124871565293, 'random_strength': 0.3841584756262563, 'bagging_temperature': 0.8638329224920668, 'border_count': 255}. Best is trial 74 with value: 0.25535659815378564.\n",
      "[I 2024-01-29 14:50:14,464] Trial 88 finished with value: 0.25312056723540277 and parameters: {'iterations': 1634, 'depth': 4, 'learning_rate': 0.18849774311721199, 'random_strength': 0.3826594814177595, 'bagging_temperature': 0.8541938431822776, 'border_count': 255}. Best is trial 74 with value: 0.25535659815378564.\n",
      "[I 2024-01-29 14:50:29,053] Trial 89 finished with value: 0.20946043892343258 and parameters: {'iterations': 1674, 'depth': 4, 'learning_rate': 0.166976069946217, 'random_strength': 0.280698587730474, 'bagging_temperature': 0.9276395314605618, 'border_count': 98}. Best is trial 74 with value: 0.25535659815378564.\n",
      "[I 2024-01-29 14:50:43,078] Trial 90 finished with value: 0.2531364170638175 and parameters: {'iterations': 1597, 'depth': 4, 'learning_rate': 0.17823761921893388, 'random_strength': 0.40476898827691365, 'bagging_temperature': 0.8999521942016887, 'border_count': 225}. Best is trial 74 with value: 0.25535659815378564.\n",
      "[I 2024-01-29 14:50:58,785] Trial 91 finished with value: 0.25056196435403455 and parameters: {'iterations': 1764, 'depth': 4, 'learning_rate': 0.1983853868060482, 'random_strength': 0.34093169048060656, 'bagging_temperature': 0.8736278610902007, 'border_count': 236}. Best is trial 74 with value: 0.25535659815378564.\n",
      "[I 2024-01-29 14:51:12,349] Trial 92 finished with value: 0.25287654398598713 and parameters: {'iterations': 1526, 'depth': 4, 'learning_rate': 0.18355723260511453, 'random_strength': 0.4437764542791509, 'bagging_temperature': 0.7794113483934278, 'border_count': 250}. Best is trial 74 with value: 0.25535659815378564.\n",
      "[I 2024-01-29 14:51:27,596] Trial 93 finished with value: 0.25282098895765903 and parameters: {'iterations': 1731, 'depth': 4, 'learning_rate': 0.17530195066511878, 'random_strength': 0.47785756052227085, 'bagging_temperature': 0.949495791258616, 'border_count': 239}. Best is trial 74 with value: 0.25535659815378564.\n",
      "[I 2024-01-29 14:51:45,852] Trial 94 finished with value: 0.2510180294905725 and parameters: {'iterations': 1793, 'depth': 5, 'learning_rate': 0.19396214138000417, 'random_strength': 0.36741354722820746, 'bagging_temperature': 0.9030145986911152, 'border_count': 232}. Best is trial 74 with value: 0.25535659815378564.\n",
      "[I 2024-01-29 14:52:04,698] Trial 95 finished with value: 0.23674238588880714 and parameters: {'iterations': 1849, 'depth': 5, 'learning_rate': 0.1876340121550507, 'random_strength': 0.550228903511902, 'bagging_temperature': 0.8653954635017826, 'border_count': 218}. Best is trial 74 with value: 0.25535659815378564.\n",
      "[I 2024-01-29 14:52:19,346] Trial 96 finished with value: 0.25298307051432045 and parameters: {'iterations': 1647, 'depth': 4, 'learning_rate': 0.16620743934123752, 'random_strength': 0.6186456747037294, 'bagging_temperature': 0.8219501798462187, 'border_count': 252}. Best is trial 74 with value: 0.25535659815378564.\n",
      "[I 2024-01-29 14:52:34,156] Trial 97 finished with value: 0.254737169338482 and parameters: {'iterations': 1676, 'depth': 4, 'learning_rate': 0.17182402504928343, 'random_strength': 0.5753215158395306, 'bagging_temperature': 0.9930841055768704, 'border_count': 229}. Best is trial 74 with value: 0.25535659815378564.\n",
      "[I 2024-01-29 14:52:49,097] Trial 98 finished with value: 0.2557614796740554 and parameters: {'iterations': 1682, 'depth': 4, 'learning_rate': 0.17464278943281045, 'random_strength': 0.5187807297310542, 'bagging_temperature': 0.9983467903906863, 'border_count': 229}. Best is trial 98 with value: 0.2557614796740554.\n",
      "[I 2024-01-29 14:53:04,057] Trial 99 finished with value: 0.2535235936083645 and parameters: {'iterations': 1694, 'depth': 4, 'learning_rate': 0.15929966148415428, 'random_strength': 0.5837506866101617, 'bagging_temperature': 0.9993728658444971, 'border_count': 230}. Best is trial 98 with value: 0.2557614796740554.\n"
     ]
    },
    {
     "name": "stdout",
     "output_type": "stream",
     "text": [
      "Best Parameters: {'iterations': 1682, 'depth': 4, 'learning_rate': 0.17464278943281045, 'random_strength': 0.5187807297310542, 'bagging_temperature': 0.9983467903906863, 'border_count': 229}\n"
     ]
    }
   ],
   "source": [
    "# Create a study and optimize the objective function\n",
    "study = optuna.create_study(direction='maximize')\n",
    "study.optimize(objective, n_trials=100)\n",
    "\n",
    "# Get the best parameters and best trial\n",
    "best_parameters = study.best_params\n",
    "best_trial = study.best_trial"
   ]
  },
  {
   "cell_type": "code",
   "execution_count": 47,
   "id": "77ba866e-ff49-433a-84b1-5ab6f7f60f27",
   "metadata": {},
   "outputs": [
    {
     "name": "stdout",
     "output_type": "stream",
     "text": [
      "Best Parameters: {'iterations': 1682, 'depth': 4, 'learning_rate': 0.17464278943281045, 'random_strength': 0.5187807297310542, 'bagging_temperature': 0.9983467903906863, 'border_count': 229}\n"
     ]
    }
   ],
   "source": [
    "# Train the final model on the entire training dataset using the best parameters\n",
    "print(f\"Best Parameters: {best_parameters}\")"
   ]
  },
  {
   "cell_type": "code",
   "execution_count": 45,
   "id": "4a2a7054-c370-4253-b3cf-1cd0714f4f11",
   "metadata": {},
   "outputs": [],
   "source": [
    "selected_parameters= {'iterations': 1682, \n",
    "                      'depth': 4, \n",
    "                      'learning_rate': 0.17464278943281045, \n",
    "                      'random_strength': 0.5187807297310542, \n",
    "                      'bagging_temperature': 0.9983467903906863, \n",
    "                      'border_count': 229}"
   ]
  },
  {
   "cell_type": "code",
   "execution_count": 46,
   "id": "04806a09-b21d-477a-984b-81048a737539",
   "metadata": {},
   "outputs": [
    {
     "name": "stdout",
     "output_type": "stream",
     "text": [
      "Final R² on Test Set: 0.2857355265550754\n"
     ]
    }
   ],
   "source": [
    "final_model = CatBoostRegressor(**selected_parameters, verbose=0)\n",
    "final_model.fit(train_features, train_target)\n",
    "\n",
    "test_predictions = final_model.predict(test_features)\n",
    "# Calculate R² on the test set\n",
    "final_r2 = r2_score(test_target, test_predictions)\n",
    "print(f\"Final R² on Test Set: {final_r2}\")"
   ]
  },
  {
   "cell_type": "code",
   "execution_count": null,
   "id": "61dd2c70-d54b-4531-829d-cacb229e4b69",
   "metadata": {},
   "outputs": [],
   "source": []
  }
 ],
 "metadata": {
  "kernelspec": {
   "display_name": "Python 3 (ipykernel)",
   "language": "python",
   "name": "python3"
  },
  "language_info": {
   "codemirror_mode": {
    "name": "ipython",
    "version": 3
   },
   "file_extension": ".py",
   "mimetype": "text/x-python",
   "name": "python",
   "nbconvert_exporter": "python",
   "pygments_lexer": "ipython3",
   "version": "3.10.11"
  }
 },
 "nbformat": 4,
 "nbformat_minor": 5
}
